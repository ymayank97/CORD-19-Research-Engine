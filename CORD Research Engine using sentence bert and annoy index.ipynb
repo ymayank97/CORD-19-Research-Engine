{
 "cells": [
  {
   "cell_type": "markdown",
   "id": "1aa05cdb",
   "metadata": {},
   "source": [
    "# CORD Semantic Search using S-Bert and Annoy"
   ]
  },
  {
   "cell_type": "markdown",
   "id": "646fe55f",
   "metadata": {},
   "source": [
    "## Importing Libraries"
   ]
  },
  {
   "cell_type": "code",
   "execution_count": 1,
   "id": "b55cb6d1",
   "metadata": {},
   "outputs": [],
   "source": [
    "import pandas as pd\n",
    "import numpy as np\n",
    "from rank_bm25 import BM25Okapi\n",
    "import re\n",
    "pd.options.display.max_colwidth=160"
   ]
  },
  {
   "cell_type": "markdown",
   "id": "d993abf7",
   "metadata": {},
   "source": [
    "## Data Preprocessing"
   ]
  },
  {
   "cell_type": "code",
   "execution_count": 2,
   "id": "4ab3cd2a",
   "metadata": {},
   "outputs": [],
   "source": [
    "rel_terms = '.*vir.*|.*sars.*|.*mers.*|.*corona.*|.*ncov.*|.*immun.*|.*nosocomial.*|.*epidem.*|.*emerg.*|.*vacc.*|.*cytokine.*'\n",
    "\n",
    "def start(data):\n",
    "    return data.copy()\n",
    "\n",
    "def clean_title(data):\n",
    "    # Set junk titles to NAN\n",
    "    title_relevant = data.title.fillna('').str.match(rel_terms, case=False)\n",
    "    title_short = data.title.fillna('').apply(len) < 30\n",
    "    title_junk = title_short & ~title_relevant\n",
    "    data.loc[title_junk, 'title'] = ''\n",
    "    return data\n",
    "\n",
    "\n",
    "def clean_abstract(data):\n",
    "    # Set unknowns to NAN\n",
    "    abstract_unknown = data.abstract == 'Unknown'\n",
    "    data.loc[abstract_unknown, 'abstract'] = np.nan\n",
    "\n",
    "    # Fill missing abstract with the title\n",
    "    data.abstract = data.abstract.fillna(data.title)\n",
    "\n",
    "    # Remove common terms like publisher\n",
    "    data.abstract = data.abstract.fillna('').apply(lambda x: re.sub('(OBJECTIVE:|Publisher|Abstract|Summary|BACKGROUND|INTRODUCTION)','',x))\n",
    "\n",
    "    return data\n",
    "\n",
    "\n",
    "def drop_missing(data):\n",
    "    missing = (data.published.isnull()) & \\\n",
    "              (data.sha.isnull()) & \\\n",
    "              (data.title == '') & \\\n",
    "              (data.abstract == '')\n",
    "    return data[~missing].reset_index(drop=True)\n",
    "\n",
    "\n",
    "def fill_nulls(data):\n",
    "    data.authors = data.authors.fillna('')\n",
    "    data.doi = data.doi.fillna('')\n",
    "    data.journal = data.journal.fillna('')\n",
    "    data.abstract = data.abstract.fillna('')\n",
    "    return data\n",
    "\n",
    "\n",
    "def rename_publish_time(data):\n",
    "    return data.rename(columns={'publish_time': 'published'})\n",
    "\n",
    "def clean_metadata(metadata):\n",
    "    print('Cleaning metadata')\n",
    "    return metadata.pipe(start) \\\n",
    "        .pipe(clean_title) \\\n",
    "        .pipe(clean_abstract) \\\n",
    "        .pipe(rename_publish_time) \\\n",
    "        .pipe(drop_missing) \\\n",
    "        .pipe(fill_nulls)"
   ]
  },
  {
   "cell_type": "markdown",
   "id": "ca529970",
   "metadata": {},
   "source": [
    "## Data Loading"
   ]
  },
  {
   "cell_type": "code",
   "execution_count": 3,
   "id": "6c66f3c0",
   "metadata": {},
   "outputs": [],
   "source": [
    "metadata_path = 'data/metadata.csv'"
   ]
  },
  {
   "cell_type": "code",
   "execution_count": 4,
   "id": "f3ff4238",
   "metadata": {},
   "outputs": [],
   "source": [
    "dtypes = {'Microsoft Academic Paper ID': 'str', 'pubmed_id': str}\n",
    "renames = {'source_x': 'source', 'has_full_text': 'has_text'}\n",
    "metadata = pd.read_csv(metadata_path, dtype=dtypes, low_memory=False,\n",
    "                       parse_dates=['publish_time']).rename(columns=renames)\n"
   ]
  },
  {
   "cell_type": "markdown",
   "id": "d4c1ebb3",
   "metadata": {},
   "source": [
    "## Data Cleaning"
   ]
  },
  {
   "cell_type": "code",
   "execution_count": 5,
   "id": "f8648631",
   "metadata": {},
   "outputs": [
    {
     "name": "stdout",
     "output_type": "stream",
     "text": [
      "Cleaning metadata\n"
     ]
    }
   ],
   "source": [
    "metadata = clean_metadata(metadata)"
   ]
  },
  {
   "cell_type": "code",
   "execution_count": 6,
   "id": "89be5a44",
   "metadata": {},
   "outputs": [
    {
     "data": {
      "text/html": [
       "<div>\n",
       "<style scoped>\n",
       "    .dataframe tbody tr th:only-of-type {\n",
       "        vertical-align: middle;\n",
       "    }\n",
       "\n",
       "    .dataframe tbody tr th {\n",
       "        vertical-align: top;\n",
       "    }\n",
       "\n",
       "    .dataframe thead th {\n",
       "        text-align: right;\n",
       "    }\n",
       "</style>\n",
       "<table border=\"1\" class=\"dataframe\">\n",
       "  <thead>\n",
       "    <tr style=\"text-align: right;\">\n",
       "      <th></th>\n",
       "      <th>cord_uid</th>\n",
       "      <th>sha</th>\n",
       "      <th>source</th>\n",
       "      <th>title</th>\n",
       "      <th>doi</th>\n",
       "      <th>pmcid</th>\n",
       "      <th>pubmed_id</th>\n",
       "      <th>license</th>\n",
       "      <th>abstract</th>\n",
       "      <th>published</th>\n",
       "      <th>authors</th>\n",
       "      <th>journal</th>\n",
       "      <th>mag_id</th>\n",
       "      <th>who_covidence_id</th>\n",
       "      <th>arxiv_id</th>\n",
       "      <th>pdf_json_files</th>\n",
       "      <th>pmc_json_files</th>\n",
       "      <th>url</th>\n",
       "      <th>s2_id</th>\n",
       "    </tr>\n",
       "  </thead>\n",
       "  <tbody>\n",
       "    <tr>\n",
       "      <th>0</th>\n",
       "      <td>ug7v899j</td>\n",
       "      <td>d1aafb70c066a2068b02786f8929fd9c900897fb</td>\n",
       "      <td>PMC</td>\n",
       "      <td>Clinical features of culture-proven Mycoplasma pneumoniae infections at King Abdulaziz University Hospital, Jeddah, Saudi Arabia</td>\n",
       "      <td>10.1186/1471-2334-1-6</td>\n",
       "      <td>PMC35282</td>\n",
       "      <td>11472636</td>\n",
       "      <td>no-cc</td>\n",
       "      <td>This retrospective chart review describes the epidemiology and clinical features of 40 patients with culture-proven Mycoplasma pneumoniae infections at Kin...</td>\n",
       "      <td>2001-07-04</td>\n",
       "      <td>Madani, Tariq A; Al-Ghamdi, Aisha A</td>\n",
       "      <td>BMC Infect Dis</td>\n",
       "      <td>NaN</td>\n",
       "      <td>NaN</td>\n",
       "      <td>NaN</td>\n",
       "      <td>document_parses/pdf_json/d1aafb70c066a2068b02786f8929fd9c900897fb.json</td>\n",
       "      <td>document_parses/pmc_json/PMC35282.xml.json</td>\n",
       "      <td>https://www.ncbi.nlm.nih.gov/pmc/articles/PMC35282/</td>\n",
       "      <td>NaN</td>\n",
       "    </tr>\n",
       "    <tr>\n",
       "      <th>1</th>\n",
       "      <td>02tnwd4m</td>\n",
       "      <td>6b0567729c2143a66d737eb0a2f63f2dce2e5a7d</td>\n",
       "      <td>PMC</td>\n",
       "      <td>Nitric oxide: a pro-inflammatory mediator in lung disease?</td>\n",
       "      <td>10.1186/rr14</td>\n",
       "      <td>PMC59543</td>\n",
       "      <td>11667967</td>\n",
       "      <td>no-cc</td>\n",
       "      <td>Inflammatory diseases of the respiratory tract are commonly associated with elevated production of nitric oxide (NO•) and increased indices of NO• -dependen...</td>\n",
       "      <td>2000-08-15</td>\n",
       "      <td>Vliet, Albert van der; Eiserich, Jason P; Cross, Carroll E</td>\n",
       "      <td>Respir Res</td>\n",
       "      <td>NaN</td>\n",
       "      <td>NaN</td>\n",
       "      <td>NaN</td>\n",
       "      <td>document_parses/pdf_json/6b0567729c2143a66d737eb0a2f63f2dce2e5a7d.json</td>\n",
       "      <td>document_parses/pmc_json/PMC59543.xml.json</td>\n",
       "      <td>https://www.ncbi.nlm.nih.gov/pmc/articles/PMC59543/</td>\n",
       "      <td>NaN</td>\n",
       "    </tr>\n",
       "  </tbody>\n",
       "</table>\n",
       "</div>"
      ],
      "text/plain": [
       "   cord_uid                                       sha source  \\\n",
       "0  ug7v899j  d1aafb70c066a2068b02786f8929fd9c900897fb    PMC   \n",
       "1  02tnwd4m  6b0567729c2143a66d737eb0a2f63f2dce2e5a7d    PMC   \n",
       "\n",
       "                                                                                                                              title  \\\n",
       "0  Clinical features of culture-proven Mycoplasma pneumoniae infections at King Abdulaziz University Hospital, Jeddah, Saudi Arabia   \n",
       "1                                                                        Nitric oxide: a pro-inflammatory mediator in lung disease?   \n",
       "\n",
       "                     doi     pmcid pubmed_id license  \\\n",
       "0  10.1186/1471-2334-1-6  PMC35282  11472636   no-cc   \n",
       "1           10.1186/rr14  PMC59543  11667967   no-cc   \n",
       "\n",
       "                                                                                                                                                          abstract  \\\n",
       "0   This retrospective chart review describes the epidemiology and clinical features of 40 patients with culture-proven Mycoplasma pneumoniae infections at Kin...   \n",
       "1  Inflammatory diseases of the respiratory tract are commonly associated with elevated production of nitric oxide (NO•) and increased indices of NO• -dependen...   \n",
       "\n",
       "   published                                                     authors  \\\n",
       "0 2001-07-04                         Madani, Tariq A; Al-Ghamdi, Aisha A   \n",
       "1 2000-08-15  Vliet, Albert van der; Eiserich, Jason P; Cross, Carroll E   \n",
       "\n",
       "          journal  mag_id who_covidence_id arxiv_id  \\\n",
       "0  BMC Infect Dis     NaN              NaN      NaN   \n",
       "1      Respir Res     NaN              NaN      NaN   \n",
       "\n",
       "                                                           pdf_json_files  \\\n",
       "0  document_parses/pdf_json/d1aafb70c066a2068b02786f8929fd9c900897fb.json   \n",
       "1  document_parses/pdf_json/6b0567729c2143a66d737eb0a2f63f2dce2e5a7d.json   \n",
       "\n",
       "                               pmc_json_files  \\\n",
       "0  document_parses/pmc_json/PMC35282.xml.json   \n",
       "1  document_parses/pmc_json/PMC59543.xml.json   \n",
       "\n",
       "                                                   url  s2_id  \n",
       "0  https://www.ncbi.nlm.nih.gov/pmc/articles/PMC35282/    NaN  \n",
       "1  https://www.ncbi.nlm.nih.gov/pmc/articles/PMC59543/    NaN  "
      ]
     },
     "execution_count": 6,
     "metadata": {},
     "output_type": "execute_result"
    }
   ],
   "source": [
    "metadata.head(2)"
   ]
  },
  {
   "cell_type": "code",
   "execution_count": null,
   "id": "d83c8da1",
   "metadata": {},
   "outputs": [],
   "source": []
  },
  {
   "cell_type": "markdown",
   "id": "a92a7580",
   "metadata": {},
   "source": [
    "## Model Loading : Sentence transformers model - SciBert"
   ]
  },
  {
   "cell_type": "code",
   "execution_count": 10,
   "id": "23d0d79b",
   "metadata": {},
   "outputs": [
    {
     "name": "stderr",
     "output_type": "stream",
     "text": [
      "Some weights of the model checkpoint at lordtt13/COVID-SciBERT were not used when initializing BertModel: ['cls.predictions.transform.LayerNorm.bias', 'cls.predictions.decoder.weight', 'cls.predictions.transform.dense.bias', 'cls.predictions.transform.LayerNorm.weight', 'cls.predictions.transform.dense.weight', 'cls.predictions.bias', 'cls.predictions.decoder.bias']\n",
      "- This IS expected if you are initializing BertModel from the checkpoint of a model trained on another task or with another architecture (e.g. initializing a BertForSequenceClassification model from a BertForPreTraining model).\n",
      "- This IS NOT expected if you are initializing BertModel from the checkpoint of a model that you expect to be exactly identical (initializing a BertForSequenceClassification model from a BertForSequenceClassification model).\n"
     ]
    }
   ],
   "source": [
    "from sentence_transformers import SentenceTransformer, models\n",
    "\n",
    "## Step 1: use an existing language model\n",
    "word_embedding_model = models.Transformer('lordtt13/COVID-SciBERT')\n",
    "\n",
    "## Step 2: use a pool function over the token embeddings\n",
    "pooling_model = models.Pooling(word_embedding_model.get_word_embedding_dimension())\n",
    "\n",
    "## Join steps 1 and 2 using the modules argument\n",
    "model = SentenceTransformer(modules=[word_embedding_model, pooling_model])"
   ]
  },
  {
   "cell_type": "markdown",
   "id": "db5906bd",
   "metadata": {},
   "source": [
    "## Abstract Text pre-process"
   ]
  },
  {
   "cell_type": "code",
   "execution_count": 31,
   "id": "93662e6c",
   "metadata": {},
   "outputs": [],
   "source": [
    "import contractions\n",
    "import string,re\n",
    "def data_preprocess(text):\n",
    "    #removing contractions\n",
    "    text=contractions.fix(text)\n",
    "    #removing url and html links\n",
    "    url_pattern = re.compile(r'https?://\\S+|www\\.\\S+')\n",
    "    html_pattern = re.compile('<.*?>')\n",
    "    text=html_pattern.sub(r'', text)\n",
    "    text=url_pattern.sub(r'', text)\n",
    "    #replacing underscore from text\n",
    "    text=text.replace('_',' ')\n",
    "    #To remove the punctuations\n",
    "    text = text.translate(str.maketrans('','',string.punctuation))\n",
    "    #will consider only alphabets and numerics\n",
    "    pat = r'[^a-zA-z0-9]' \n",
    "    text=re.sub(pat, ' ', text)  \n",
    "    #will replace newline with space\n",
    "    text = re.sub(\"\\n\",\" \",text)\n",
    "    #will convert to lower case and will split and join the words\n",
    "    text=' '.join(text.split())\n",
    "    text=text.lower()\n",
    "    return text"
   ]
  },
  {
   "cell_type": "code",
   "execution_count": null,
   "id": "fea871c2",
   "metadata": {},
   "outputs": [],
   "source": []
  },
  {
   "cell_type": "code",
   "execution_count": 33,
   "id": "bc0a2896",
   "metadata": {},
   "outputs": [
    {
     "name": "stderr",
     "output_type": "stream",
     "text": [
      "100%|██████████████████████████████████████████████████████████████████████| 1056659/1056659 [08:58<00:00, 1961.76it/s]\n"
     ]
    }
   ],
   "source": [
    "from tqdm import tqdm\n",
    "\n",
    "list_clean=[]\n",
    "#### In case using with enumerate:\n",
    "for i, x in enumerate( tqdm(metadata.abstract.values)):\n",
    "    list_clean.append(data_preprocess(x))"
   ]
  },
  {
   "cell_type": "code",
   "execution_count": 34,
   "id": "b742ef06",
   "metadata": {},
   "outputs": [
    {
     "data": {
      "text/plain": [
       "1056659"
      ]
     },
     "execution_count": 34,
     "metadata": {},
     "output_type": "execute_result"
    }
   ],
   "source": [
    "len(list_clean)"
   ]
  },
  {
   "cell_type": "code",
   "execution_count": null,
   "id": "3ecc46b1",
   "metadata": {},
   "outputs": [],
   "source": []
  },
  {
   "cell_type": "markdown",
   "id": "44dcbdb2",
   "metadata": {},
   "source": [
    "## Clean csv file for search"
   ]
  },
  {
   "cell_type": "code",
   "execution_count": 43,
   "id": "e268ef42",
   "metadata": {},
   "outputs": [],
   "source": [
    "df = metadata[['cord_uid','title','abstract','url']][:5000]\n",
    "df['abstract'] = list_clean[:5000]"
   ]
  },
  {
   "cell_type": "code",
   "execution_count": 44,
   "id": "77f5456a",
   "metadata": {},
   "outputs": [
    {
     "data": {
      "text/html": [
       "<div>\n",
       "<style scoped>\n",
       "    .dataframe tbody tr th:only-of-type {\n",
       "        vertical-align: middle;\n",
       "    }\n",
       "\n",
       "    .dataframe tbody tr th {\n",
       "        vertical-align: top;\n",
       "    }\n",
       "\n",
       "    .dataframe thead th {\n",
       "        text-align: right;\n",
       "    }\n",
       "</style>\n",
       "<table border=\"1\" class=\"dataframe\">\n",
       "  <thead>\n",
       "    <tr style=\"text-align: right;\">\n",
       "      <th></th>\n",
       "      <th>cord_uid</th>\n",
       "      <th>title</th>\n",
       "      <th>abstract</th>\n",
       "      <th>url</th>\n",
       "    </tr>\n",
       "  </thead>\n",
       "  <tbody>\n",
       "    <tr>\n",
       "      <th>0</th>\n",
       "      <td>ug7v899j</td>\n",
       "      <td>Clinical features of culture-proven Mycoplasma pneumoniae infections at King Abdulaziz University Hospital, Jeddah, Saudi Arabia</td>\n",
       "      <td>this retrospective chart review describes the epidemiology and clinical features of 40 patients with cultureproven mycoplasma pneumoniae infections at king ...</td>\n",
       "      <td>https://www.ncbi.nlm.nih.gov/pmc/articles/PMC35282/</td>\n",
       "    </tr>\n",
       "    <tr>\n",
       "      <th>1</th>\n",
       "      <td>02tnwd4m</td>\n",
       "      <td>Nitric oxide: a pro-inflammatory mediator in lung disease?</td>\n",
       "      <td>inflammatory diseases of the respiratory tract are commonly associated with elevated production of nitric oxide no and increased indices of no dependent oxi...</td>\n",
       "      <td>https://www.ncbi.nlm.nih.gov/pmc/articles/PMC59543/</td>\n",
       "    </tr>\n",
       "    <tr>\n",
       "      <th>2</th>\n",
       "      <td>ejv2xln0</td>\n",
       "      <td>Surfactant protein-D and pulmonary host defense</td>\n",
       "      <td>surfactant proteind spd participates in the innate response to inhaled microorganisms and organic antigens and contributes to immune and inflammatory regula...</td>\n",
       "      <td>https://www.ncbi.nlm.nih.gov/pmc/articles/PMC59549/</td>\n",
       "    </tr>\n",
       "    <tr>\n",
       "      <th>3</th>\n",
       "      <td>2b73a28n</td>\n",
       "      <td>Role of endothelin-1 in lung disease</td>\n",
       "      <td>endothelin1 et1 is a 21 amino acid peptide with diverse biological activity that has been implicated in numerous diseases et1 is a potent mitogen regulator ...</td>\n",
       "      <td>https://www.ncbi.nlm.nih.gov/pmc/articles/PMC59574/</td>\n",
       "    </tr>\n",
       "    <tr>\n",
       "      <th>4</th>\n",
       "      <td>9785vg6d</td>\n",
       "      <td>Gene expression in epithelial cells in response to pneumovirus infection</td>\n",
       "      <td>respiratory syncytial virus rsv and pneumonia virus of mice pvm are viruses of the family paramyxoviridae subfamily pneumovirus which because clinically imp...</td>\n",
       "      <td>https://www.ncbi.nlm.nih.gov/pmc/articles/PMC59580/</td>\n",
       "    </tr>\n",
       "  </tbody>\n",
       "</table>\n",
       "</div>"
      ],
      "text/plain": [
       "   cord_uid  \\\n",
       "0  ug7v899j   \n",
       "1  02tnwd4m   \n",
       "2  ejv2xln0   \n",
       "3  2b73a28n   \n",
       "4  9785vg6d   \n",
       "\n",
       "                                                                                                                              title  \\\n",
       "0  Clinical features of culture-proven Mycoplasma pneumoniae infections at King Abdulaziz University Hospital, Jeddah, Saudi Arabia   \n",
       "1                                                                        Nitric oxide: a pro-inflammatory mediator in lung disease?   \n",
       "2                                                                                   Surfactant protein-D and pulmonary host defense   \n",
       "3                                                                                              Role of endothelin-1 in lung disease   \n",
       "4                                                          Gene expression in epithelial cells in response to pneumovirus infection   \n",
       "\n",
       "                                                                                                                                                          abstract  \\\n",
       "0  this retrospective chart review describes the epidemiology and clinical features of 40 patients with cultureproven mycoplasma pneumoniae infections at king ...   \n",
       "1  inflammatory diseases of the respiratory tract are commonly associated with elevated production of nitric oxide no and increased indices of no dependent oxi...   \n",
       "2  surfactant proteind spd participates in the innate response to inhaled microorganisms and organic antigens and contributes to immune and inflammatory regula...   \n",
       "3  endothelin1 et1 is a 21 amino acid peptide with diverse biological activity that has been implicated in numerous diseases et1 is a potent mitogen regulator ...   \n",
       "4  respiratory syncytial virus rsv and pneumonia virus of mice pvm are viruses of the family paramyxoviridae subfamily pneumovirus which because clinically imp...   \n",
       "\n",
       "                                                   url  \n",
       "0  https://www.ncbi.nlm.nih.gov/pmc/articles/PMC35282/  \n",
       "1  https://www.ncbi.nlm.nih.gov/pmc/articles/PMC59543/  \n",
       "2  https://www.ncbi.nlm.nih.gov/pmc/articles/PMC59549/  \n",
       "3  https://www.ncbi.nlm.nih.gov/pmc/articles/PMC59574/  \n",
       "4  https://www.ncbi.nlm.nih.gov/pmc/articles/PMC59580/  "
      ]
     },
     "execution_count": 44,
     "metadata": {},
     "output_type": "execute_result"
    }
   ],
   "source": [
    "df.head()"
   ]
  },
  {
   "cell_type": "code",
   "execution_count": 45,
   "id": "0ac3d865",
   "metadata": {},
   "outputs": [],
   "source": [
    "df.to_csv(r'data\\csv_for_search.csv')"
   ]
  },
  {
   "cell_type": "code",
   "execution_count": null,
   "id": "0e73e646",
   "metadata": {},
   "outputs": [],
   "source": []
  },
  {
   "cell_type": "markdown",
   "id": "636d4c1d",
   "metadata": {},
   "source": [
    "## Encoding abstract text"
   ]
  },
  {
   "cell_type": "code",
   "execution_count": null,
   "id": "d0462455",
   "metadata": {},
   "outputs": [],
   "source": [
    "context_embed = model.encode(df['abstract'].values)"
   ]
  },
  {
   "cell_type": "code",
   "execution_count": null,
   "id": "37652282",
   "metadata": {},
   "outputs": [],
   "source": []
  },
  {
   "cell_type": "code",
   "execution_count": null,
   "id": "d2dbde0b",
   "metadata": {},
   "outputs": [],
   "source": [
    "len(context_embed[0])"
   ]
  },
  {
   "cell_type": "code",
   "execution_count": null,
   "id": "688bcb93",
   "metadata": {},
   "outputs": [],
   "source": [
    "len(context_embed)"
   ]
  },
  {
   "cell_type": "markdown",
   "id": "ed47e0ab",
   "metadata": {},
   "source": [
    "## Indexing embeddings using Annoy"
   ]
  },
  {
   "cell_type": "code",
   "execution_count": null,
   "id": "e0739285",
   "metadata": {},
   "outputs": [],
   "source": [
    "from annoy import AnnoyIndex\n",
    "#512 dimensional vectors\n",
    "D=768\n",
    "\n",
    "#Default number of trees\n",
    "NUM_TREES=70\n",
    "\n",
    "ann = AnnoyIndex(D)\n",
    "for index, embed in enumerate(context_embed):\n",
    "  ann.add_item(index, embed)\n",
    "ann.build(NUM_TREES)\n",
    "ann.save('data/ann_full_data.ann')"
   ]
  },
  {
   "cell_type": "code",
   "execution_count": null,
   "id": "42cdf404",
   "metadata": {},
   "outputs": [],
   "source": []
  },
  {
   "cell_type": "code",
   "execution_count": 19,
   "id": "c87b9c0c",
   "metadata": {},
   "outputs": [
    {
     "data": {
      "text/plain": [
       "True"
      ]
     },
     "execution_count": 19,
     "metadata": {},
     "output_type": "execute_result"
    }
   ],
   "source": [
    "u2 = AnnoyIndex(768, 'angular')\n",
    "u2.load(r'data/ann_index.ann')"
   ]
  },
  {
   "cell_type": "code",
   "execution_count": 21,
   "id": "0f83e8ea",
   "metadata": {},
   "outputs": [],
   "source": [
    "x,dist = u2.get_nns_by_vector(model.encode('covid disease'), 10, search_k=-1, include_distances=True)"
   ]
  },
  {
   "cell_type": "code",
   "execution_count": 23,
   "id": "7a354f28",
   "metadata": {},
   "outputs": [],
   "source": [
    "my_result_out2=[]\n",
    "for i,j in zip(x,dist):\n",
    "        temp_list=list(metadata.loc[i,['title','url']].values)\n",
    "        temp_list.append(1-((j**2) / 2))\n",
    "        my_result_out2.append(temp_list)"
   ]
  },
  {
   "cell_type": "code",
   "execution_count": 25,
   "id": "cdc8dfc3",
   "metadata": {},
   "outputs": [
    {
     "data": {
      "text/html": [
       "<div>\n",
       "<style scoped>\n",
       "    .dataframe tbody tr th:only-of-type {\n",
       "        vertical-align: middle;\n",
       "    }\n",
       "\n",
       "    .dataframe tbody tr th {\n",
       "        vertical-align: top;\n",
       "    }\n",
       "\n",
       "    .dataframe thead th {\n",
       "        text-align: right;\n",
       "    }\n",
       "</style>\n",
       "<table border=\"1\" class=\"dataframe\">\n",
       "  <thead>\n",
       "    <tr style=\"text-align: right;\">\n",
       "      <th></th>\n",
       "      <th>0</th>\n",
       "      <th>1</th>\n",
       "      <th>2</th>\n",
       "    </tr>\n",
       "  </thead>\n",
       "  <tbody>\n",
       "    <tr>\n",
       "      <th>0</th>\n",
       "      <td>Technical Description of RODS: A Real-time Public Health Surveillance System</td>\n",
       "      <td>https://academic.oup.com/jamia/article-pdf/10/5/399/2352016/10-5-399.pdf</td>\n",
       "      <td>0.620595</td>\n",
       "    </tr>\n",
       "    <tr>\n",
       "      <th>1</th>\n",
       "      <td>Gene expression in epithelial cells in response to pneumovirus infection</td>\n",
       "      <td>https://www.ncbi.nlm.nih.gov/pmc/articles/PMC59580/</td>\n",
       "      <td>0.567117</td>\n",
       "    </tr>\n",
       "    <tr>\n",
       "      <th>2</th>\n",
       "      <td>The 21st International Symposium on Intensive Care and Emergency Medicine, Brussels, Belgium, 20-23 March 2001</td>\n",
       "      <td>https://www.ncbi.nlm.nih.gov/pmc/articles/PMC137274/</td>\n",
       "      <td>0.546412</td>\n",
       "    </tr>\n",
       "    <tr>\n",
       "      <th>3</th>\n",
       "      <td>Clinical features of culture-proven Mycoplasma pneumoniae infections at King Abdulaziz University Hospital, Jeddah, Saudi Arabia</td>\n",
       "      <td>https://www.ncbi.nlm.nih.gov/pmc/articles/PMC35282/</td>\n",
       "      <td>0.546182</td>\n",
       "    </tr>\n",
       "    <tr>\n",
       "      <th>4</th>\n",
       "      <td>Sequence requirements for RNA strand transfer during nidovirus discontinuous subgenomic RNA synthesis</td>\n",
       "      <td>http://europepmc.org/articles/pmc125340?pdf=render</td>\n",
       "      <td>0.519851</td>\n",
       "    </tr>\n",
       "    <tr>\n",
       "      <th>5</th>\n",
       "      <td>Role of endothelin-1 in lung disease</td>\n",
       "      <td>https://www.ncbi.nlm.nih.gov/pmc/articles/PMC59574/</td>\n",
       "      <td>0.481446</td>\n",
       "    </tr>\n",
       "    <tr>\n",
       "      <th>6</th>\n",
       "      <td>Nitric oxide: a pro-inflammatory mediator in lung disease?</td>\n",
       "      <td>https://www.ncbi.nlm.nih.gov/pmc/articles/PMC59543/</td>\n",
       "      <td>0.480547</td>\n",
       "    </tr>\n",
       "    <tr>\n",
       "      <th>7</th>\n",
       "      <td>Surfactant protein-D and pulmonary host defense</td>\n",
       "      <td>https://www.ncbi.nlm.nih.gov/pmc/articles/PMC59549/</td>\n",
       "      <td>0.449996</td>\n",
       "    </tr>\n",
       "    <tr>\n",
       "      <th>8</th>\n",
       "      <td>Debate: Transfusing to normal haemoglobin levels will not improve outcome</td>\n",
       "      <td>https://www.ncbi.nlm.nih.gov/pmc/articles/PMC137267/</td>\n",
       "      <td>0.435599</td>\n",
       "    </tr>\n",
       "    <tr>\n",
       "      <th>9</th>\n",
       "      <td>Heme oxygenase-1 and carbon monoxide in pulmonary medicine</td>\n",
       "      <td>https://www.ncbi.nlm.nih.gov/pmc/articles/PMC193681/</td>\n",
       "      <td>0.412586</td>\n",
       "    </tr>\n",
       "  </tbody>\n",
       "</table>\n",
       "</div>"
      ],
      "text/plain": [
       "                                                                                                                                  0  \\\n",
       "0                                                      Technical Description of RODS: A Real-time Public Health Surveillance System   \n",
       "1                                                          Gene expression in epithelial cells in response to pneumovirus infection   \n",
       "2                    The 21st International Symposium on Intensive Care and Emergency Medicine, Brussels, Belgium, 20-23 March 2001   \n",
       "3  Clinical features of culture-proven Mycoplasma pneumoniae infections at King Abdulaziz University Hospital, Jeddah, Saudi Arabia   \n",
       "4                             Sequence requirements for RNA strand transfer during nidovirus discontinuous subgenomic RNA synthesis   \n",
       "5                                                                                              Role of endothelin-1 in lung disease   \n",
       "6                                                                        Nitric oxide: a pro-inflammatory mediator in lung disease?   \n",
       "7                                                                                   Surfactant protein-D and pulmonary host defense   \n",
       "8                                                         Debate: Transfusing to normal haemoglobin levels will not improve outcome   \n",
       "9                                                                        Heme oxygenase-1 and carbon monoxide in pulmonary medicine   \n",
       "\n",
       "                                                                          1  \\\n",
       "0  https://academic.oup.com/jamia/article-pdf/10/5/399/2352016/10-5-399.pdf   \n",
       "1                       https://www.ncbi.nlm.nih.gov/pmc/articles/PMC59580/   \n",
       "2                      https://www.ncbi.nlm.nih.gov/pmc/articles/PMC137274/   \n",
       "3                       https://www.ncbi.nlm.nih.gov/pmc/articles/PMC35282/   \n",
       "4                        http://europepmc.org/articles/pmc125340?pdf=render   \n",
       "5                       https://www.ncbi.nlm.nih.gov/pmc/articles/PMC59574/   \n",
       "6                       https://www.ncbi.nlm.nih.gov/pmc/articles/PMC59543/   \n",
       "7                       https://www.ncbi.nlm.nih.gov/pmc/articles/PMC59549/   \n",
       "8                      https://www.ncbi.nlm.nih.gov/pmc/articles/PMC137267/   \n",
       "9                      https://www.ncbi.nlm.nih.gov/pmc/articles/PMC193681/   \n",
       "\n",
       "          2  \n",
       "0  0.620595  \n",
       "1  0.567117  \n",
       "2  0.546412  \n",
       "3  0.546182  \n",
       "4  0.519851  \n",
       "5  0.481446  \n",
       "6  0.480547  \n",
       "7  0.449996  \n",
       "8  0.435599  \n",
       "9  0.412586  "
      ]
     },
     "execution_count": 25,
     "metadata": {},
     "output_type": "execute_result"
    }
   ],
   "source": [
    "pd.DataFrame(my_result_out2)"
   ]
  },
  {
   "cell_type": "code",
   "execution_count": null,
   "id": "6cba2a7d",
   "metadata": {},
   "outputs": [],
   "source": []
  },
  {
   "cell_type": "markdown",
   "id": "8653fa1b",
   "metadata": {},
   "source": [
    "## Ranking based on BM25"
   ]
  },
  {
   "cell_type": "code",
   "execution_count": null,
   "id": "e03cab99",
   "metadata": {},
   "outputs": [],
   "source": [
    "from gensim.utils import simple_preprocess\n",
    "from gensim.parsing.preprocessing import preprocess_documents, preprocess_string\n",
    "\n",
    "meta_df_tokens = meta_df.abstract.fillna('').apply(preprocess_string)"
   ]
  },
  {
   "cell_type": "code",
   "execution_count": null,
   "id": "3e32e2a7",
   "metadata": {},
   "outputs": [],
   "source": []
  },
  {
   "cell_type": "code",
   "execution_count": null,
   "id": "15e2ecb9",
   "metadata": {},
   "outputs": [],
   "source": []
  },
  {
   "cell_type": "code",
   "execution_count": null,
   "id": "876b2510",
   "metadata": {},
   "outputs": [],
   "source": [
    "from rank_bm25 import BM25Okapi\n",
    "import numpy as np\n",
    "\n",
    "bm25_index = BM25Okapi(meta_df_tokens.tolist())\n",
    "\n",
    "def search(search_string, num_results=10):\n",
    "    search_tokens = preprocess_string(search_string)\n",
    "    scores = bm25_index.get_scores(search_tokens)\n",
    "    top_indexes = np.argsort(scores)[::-1][:num_results]\n",
    "    return top_indexes\n",
    "\n",
    "indexes = search('novel coronavirus treatment')\n",
    "indexes"
   ]
  },
  {
   "cell_type": "code",
   "execution_count": null,
   "id": "7511d459",
   "metadata": {},
   "outputs": [],
   "source": []
  },
  {
   "cell_type": "code",
   "execution_count": null,
   "id": "5cd2dec6",
   "metadata": {},
   "outputs": [],
   "source": [
    "meta_df.loc[search('novel coronavirus treatment')]"
   ]
  },
  {
   "cell_type": "code",
   "execution_count": null,
   "id": "7148d705",
   "metadata": {},
   "outputs": [],
   "source": []
  }
 ],
 "metadata": {
  "kernelspec": {
   "display_name": "Python 3 (ipykernel)",
   "language": "python",
   "name": "python3"
  },
  "language_info": {
   "codemirror_mode": {
    "name": "ipython",
    "version": 3
   },
   "file_extension": ".py",
   "mimetype": "text/x-python",
   "name": "python",
   "nbconvert_exporter": "python",
   "pygments_lexer": "ipython3",
   "version": "3.10.6"
  }
 },
 "nbformat": 4,
 "nbformat_minor": 5
}
